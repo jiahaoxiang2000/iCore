{
 "cells": [
  {
   "cell_type": "markdown",
   "metadata": {},
   "source": [
    "# 分时多任务\n",
    "\n",
    "操作系统可进一步利用某种以固定时长为时间间隔的外设中断（比如时钟中断）。\n",
    "这样的操作系统就是支持**分时多任务**或**抢占式多任务**的抢占式操作系统。\n",
    "embedded系统中，这种操作系统通常称为**实时操作系统RTOS**。"
   ]
  },
  {
   "cell_type": "markdown",
   "metadata": {},
   "source": [
    "### 多道程序放置与加载\n",
    "\n",
    "每个应用都需要按照它的编号被分别放置并加载到内存中不同的位置。目前的操作系统内核的能力还是比较弱的，对应用程序通用性的支持也不够（比如不支持加载应用到内存中的任意地址运行）\n",
    "\n",
    "- 需要将用户程序link到指定地址 `user/build.py` \n",
    "- 需要将用户程序放置到指定地址 `os/src/loader.rs`, on the future, use the dynamic loader to load the user program to the memory, not need to limit the user program to the fixed address.\n",
    "  \n"
   ]
  },
  {
   "cell_type": "markdown",
   "metadata": {},
   "source": [
    "### 任务切换\n",
    "\n",
    "- how to finish task switch\n",
    "  - task manager for task switch. `os/src/task`\n",
    "- when time to switch (time share)\n",
    "  - use the timer interrupt to switch the task. `os/src/trap`, the `trap_handler` will be called when the timer interrupt occurs."
   ]
  }
 ],
 "metadata": {
  "language_info": {
   "name": "python"
  }
 },
 "nbformat": 4,
 "nbformat_minor": 2
}
