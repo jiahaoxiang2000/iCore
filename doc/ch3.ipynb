{
 "cells": [
  {
   "cell_type": "markdown",
   "metadata": {},
   "source": [
    "# 分时多任务\n",
    "\n",
    "操作系统可进一步利用某种以固定时长为时间间隔的外设中断（比如时钟中断）。\n",
    "这样的操作系统就是支持**分时多任务**或**抢占式多任务**的抢占式操作系统。\n",
    "embedded系统中，这种操作系统通常称为**实时操作系统RTOS**。"
   ]
  }
 ],
 "metadata": {
  "language_info": {
   "name": "python"
  }
 },
 "nbformat": 4,
 "nbformat_minor": 2
}
